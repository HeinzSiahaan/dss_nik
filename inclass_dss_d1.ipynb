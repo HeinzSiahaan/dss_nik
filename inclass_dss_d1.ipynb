{
 "cells": [
  {
   "cell_type": "markdown",
   "metadata": {},
   "source": [
    "## Training Objectives\n",
    "\n",
    "The coursebook focuses on:\n",
    "- Introduction to Python and Jupyter Notebook \n",
    "- Introduction to `pandas` Library\n",
    "- Data Preprocessing and Feature Engineering\n",
    "- Exploratory Data Analysis\n",
    "- Data Wrangling\n",
    "- Interactive Visualization"
   ]
  },
  {
   "cell_type": "markdown",
   "metadata": {},
   "source": [
    "# Environment (cont.)\n",
    "\n",
    "**Cara membuat virtual environment baru:**\n",
    "\n",
    "1. Membuka Terminal/Anaconda Prompt\n",
    "\n",
    "2. Buat environment dengan nama `ENV_NAME`:\n",
    "    ```\n",
    "    conda create -n <ENV_NAME> python=<PYTHON_VERSION>\n",
    "    ```\n",
    "    Contoh: `conda create -n dss_nik python=3.10`\n",
    "\n",
    "3. Mengaktifkan (pindah) environment:\n",
    "    ```\n",
    "    conda activate <ENV_NAME>\n",
    "    ```\n",
    "    Contoh: `conda activate dss_nik`\n",
    "\n",
    "4. Cara instalasi package:\n",
    "    ```\n",
    "    pip install <PACKAGE_NAME>\n",
    "    ```\n",
    "    atau jika butuh versi tertentu\n",
    "    ```\n",
    "    pip install <PACKAGE_NAME>==<VERSION>\n",
    "    ```\n",
    "    Contoh: `pip install pandas==2.0`\n",
    "\n",
    "    atau install dari file `requirements.txt`\n",
    "    ```\n",
    "    cd <TEMPAT_SIMPAN_FILE>\n",
    "    pip install -r requirements.txt\n",
    "    ```"
   ]
  },
  {
   "cell_type": "markdown",
   "metadata": {},
   "source": [
    "**Perintah yang sering digunakan:**\n",
    "\n",
    "- `conda env list`: cek daftar **environment**\n",
    "- `pip list`: cek daftar **package** di dalam sebuah environment"
   ]
  },
  {
   "cell_type": "markdown",
   "metadata": {},
   "source": [
    "---"
   ]
  },
  {
   "cell_type": "markdown",
   "metadata": {},
   "source": [
    "# Introduction to Jupyter Notebook"
   ]
  },
  {
   "cell_type": "markdown",
   "metadata": {},
   "source": [
    "## Cell Type\n",
    "\n",
    "**1. Markdown**\n",
    "\n",
    "Cell markdown dapat digunakan untuk menuliskan narasi."
   ]
  },
  {
   "cell_type": "markdown",
   "metadata": {},
   "source": []
  },
  {
   "cell_type": "markdown",
   "metadata": {},
   "source": [
    "Pada bagian *markdown* terdapat beberapa hal yang dapat dilakukan, seperti membuat beberapa hal berikut ini:\n",
    "\n",
    "**Heading**\n",
    "\n",
    "Pada bagian ini dapat ditambahkan heading dengan menambahkan hashtag `#`.\n",
    "\n",
    "- `#` -> Heading 1\n",
    "- `##` -> Heading 2\n",
    "- `###` -> Heading 3\n",
    "\n",
    "**Emphasis**\n",
    "\n",
    "Ketika ingin mengatur jenis tulisan dengan memberikan karakter yang lebih tegas kita bisa memanfaatkan `*`.\n",
    "\n",
    "- *kata* -> Untuk mengatur tulisan menjadi Italic\n",
    "- **kata** -> Untuk mengatur tulisan menjadi Bold\n",
    "- ***kata*** -> Untuk mengatur tulisan menjadi Italic & Bold\n",
    "    \n",
    "**Bullets**\n",
    "\n",
    "Untuk membuat beberapa point, terdapat beberapa metode yang bisa digunakan.\n",
    "    \n",
    "- Untuk membuat point dalam bentuk angka, bisa menggunakan angka 1.\n",
    "- Untuk membuat point dalam bentuk bullets, bisa menggunakan - atau *.\n",
    "\n",
    "Contoh:\n",
    "1. Urutan pertama\n",
    "1. Urutan ke-dua\n",
    "\n",
    "- Poin pertama\n",
    "- Poin ke-dua\n",
    "\n",
    "💡 Markdown Cheatsheet: https://www.markdownguide.org/cheat-sheet/"
   ]
  },
  {
   "cell_type": "markdown",
   "metadata": {},
   "source": [
    "**2. Code** \n",
    "\n",
    "Cell code digunakan untuk menuliskan kode."
   ]
  },
  {
   "cell_type": "code",
   "execution_count": 1,
   "metadata": {},
   "outputs": [
    {
     "data": {
      "text/plain": [
       "2"
      ]
     },
     "execution_count": 1,
     "metadata": {},
     "output_type": "execute_result"
    }
   ],
   "source": [
    "# Ini merupakan cell code\n",
    "1+1"
   ]
  },
  {
   "cell_type": "markdown",
   "metadata": {},
   "source": [
    "## Mode cell dalam notebook:\n",
    "\n",
    "**1. Command mode (cell tidak ada border kotak biru)**\n",
    "\n",
    "- B: menambahkan cell baru di Bawah (Below)\n",
    "- A: menambahkan cell baru di Atas (Above)\n",
    "- DD: Delete cell\n",
    "- C: Copy cell\n",
    "- V: Paste cell\n",
    "- Y: Mengubah ke code cell\n",
    "- M: Mengubah ke markdown cell\n",
    "- Enter: Mengubah command mode menjadi edit mode\n",
    "\n",
    "**2. Edit mode (cell ada border kotak biru)**\n",
    "\n",
    "- Ctrl + Enter: eksekusi satu cell\n",
    "- Esc: Mengubah edit mode menjadi command mode"
   ]
  },
  {
   "cell_type": "markdown",
   "metadata": {},
   "source": [
    "---"
   ]
  },
  {
   "cell_type": "markdown",
   "metadata": {},
   "source": [
    "# Basic Python Programming"
   ]
  },
  {
   "cell_type": "markdown",
   "metadata": {},
   "source": [
    "## Variables\n",
    "\n",
    "**Variable** adalah sebuah nama yang dipakai untuk menunjukkan sebuah nilai. Tanda `=` dipakai untuk membuat variable baru. Proses ini sering disebut sebagai **assignment**."
   ]
  },
  {
   "cell_type": "code",
   "execution_count": null,
   "metadata": {},
   "outputs": [],
   "source": [
    "# melakukan assignment\n",
    "\n",
    "\n",
    "# menampilkan isi variabel\n"
   ]
  },
  {
   "cell_type": "markdown",
   "metadata": {},
   "source": [
    "Mari kita coba buat sebuah objek, yang berisikan nama kita!"
   ]
  },
  {
   "cell_type": "code",
   "execution_count": null,
   "metadata": {},
   "outputs": [],
   "source": [
    "# code here\n"
   ]
  },
  {
   "cell_type": "markdown",
   "metadata": {},
   "source": [
    "## Case Sensitive\n",
    "\n",
    "Python adalah bahasa pemrograman yang **case-sensitive** sehingga penamaan variable menjadi hal yang perlu diperhatikan. \n",
    "\n",
    "Misal kita ingin memanggil objek perusahaan, namun dengan huruf P kapital."
   ]
  },
  {
   "cell_type": "code",
   "execution_count": null,
   "metadata": {},
   "outputs": [],
   "source": [
    "# Memanggil objek sebelumnya\n"
   ]
  },
  {
   "cell_type": "markdown",
   "metadata": {},
   "source": [
    "Berikut beberapa ketentuan dalam memberikan nama variable pada Python:\n",
    "- Simbol (`!, $ , &, dll`) tidak dapat digunakan dalam penamaan variabel, kecuali underscore ( `_` ).\n",
    "- Tidak boleh menggunakan angka di awal.\n",
    "- Bersifat case-sensitive sehingga penamaan variable `algoritma`, `ALGORITMA`, dan `Algoritma` adalah 3 variable yang berbeda\n",
    "- Tidak boleh menggunakan keyword pada Python"
   ]
  },
  {
   "cell_type": "markdown",
   "metadata": {},
   "source": [
    "## Keywords\n",
    "\n",
    "**Keywords** adalah kata kunci yang sudah ditetapkan oleh Python sebagai nama yang tidak bisa dipakai baik untuk penamaan fungsi, variabel, dan lainnya. Keyword ditulis dalam lower-case (huruf kecil semua) kecuali keyword `True`, `False`, dan `None`. Sejauh ini (Python 3.10) keyword yang ada pada Python adalah sebagai berikut:"
   ]
  },
  {
   "cell_type": "code",
   "execution_count": null,
   "metadata": {},
   "outputs": [],
   "source": [
    "#Cek daftar keyword\n",
    "import keyword\n",
    "keyword.kwlist"
   ]
  },
  {
   "cell_type": "markdown",
   "metadata": {},
   "source": [
    "Untuk membuktikan bahwa keyword tidak dapat digunakan sebagai nama variabel, mari kita coba untuk menyimpan nilai 1 pada variabel `True`."
   ]
  },
  {
   "cell_type": "code",
   "execution_count": null,
   "metadata": {},
   "outputs": [],
   "source": [
    "# Contoh ketika menyimpan ke dalam sebuah keywords\n"
   ]
  },
  {
   "cell_type": "markdown",
   "metadata": {},
   "source": [
    "---"
   ]
  },
  {
   "cell_type": "markdown",
   "metadata": {},
   "source": [
    "## Python Data Types"
   ]
  },
  {
   "cell_type": "markdown",
   "metadata": {},
   "source": [
    "### String\n",
    "\n",
    "String adalah **kata-kata**. Ada beberapa cara untuk membuat nilai string:\n",
    "\n",
    "Menggunakan `''`\n",
    "\n",
    "- Contoh: `'Hello World!'`"
   ]
  },
  {
   "cell_type": "code",
   "execution_count": null,
   "metadata": {},
   "outputs": [],
   "source": []
  },
  {
   "cell_type": "markdown",
   "metadata": {},
   "source": [
    "Menggunakan `\"\"` (jika terdapat tanda `'` di dalam kalimat)\n",
    "\n",
    "- Contoh: `\"Hari Jum'at\"`"
   ]
  },
  {
   "cell_type": "code",
   "execution_count": null,
   "metadata": {},
   "outputs": [],
   "source": []
  },
  {
   "cell_type": "markdown",
   "metadata": {},
   "source": [
    "Menggunakan `\"\"\" \"\"\"` (jika menuliskan kalimat yang dipisahkan dengan enter)\n",
    "\n",
    "- Contoh:  \n",
    "`\"\"\"Hari Jum'at adalah hari ke-5`  \n",
    "`Hari Sabtu adalah hari ke-6\"\"\"`"
   ]
  },
  {
   "cell_type": "code",
   "execution_count": null,
   "metadata": {},
   "outputs": [],
   "source": []
  },
  {
   "cell_type": "markdown",
   "metadata": {},
   "source": [
    "Untuk mengecek tipe data Python, dapat digunakan fungsi `type()`"
   ]
  },
  {
   "cell_type": "code",
   "execution_count": null,
   "metadata": {},
   "outputs": [],
   "source": [
    "# buat variabel my_str\n"
   ]
  },
  {
   "cell_type": "markdown",
   "metadata": {},
   "source": [
    "### Number\n",
    "\n",
    "Number adalah **angka**. Pada Python terdapat dua tipe data angka, yaitu `int` (integer) dan `float`.\n",
    "- `int` adalah bilangan bulat (yaitu: 1,2,-3)\n",
    "- `float` adalah bilangan real (yaitu: 0.7, -1.8, -1000.0)."
   ]
  },
  {
   "cell_type": "code",
   "execution_count": null,
   "metadata": {},
   "outputs": [],
   "source": [
    "# integer\n"
   ]
  },
  {
   "cell_type": "code",
   "execution_count": null,
   "metadata": {},
   "outputs": [],
   "source": [
    "# float\n"
   ]
  },
  {
   "cell_type": "markdown",
   "metadata": {},
   "source": [
    "**Operasi Matematika**:\n",
    "- `+` - Penambahan\n",
    "- `-` - Pengurangan\n",
    "- `*` - Perkalian\n",
    "- `/` - Pembagian\n",
    "- `//` - Pembagian yang dibulatkan ke bawah\n",
    "- `%` - Modulus (sisa pembagian)\n",
    "- `**` - Eksponen (pangkat)"
   ]
  },
  {
   "cell_type": "markdown",
   "metadata": {},
   "source": [
    "### Boolean\n",
    "\n",
    "Boolean adalah nilai `True` atau `False`."
   ]
  },
  {
   "cell_type": "code",
   "execution_count": null,
   "metadata": {},
   "outputs": [],
   "source": []
  },
  {
   "cell_type": "markdown",
   "metadata": {},
   "source": [
    "### List\n",
    "\n",
    "List digunakan untuk **menyimpan beberapa nilai**. Untuk membuatnya, cukup letakkan nilai di dalam tanda kurung siku, dipisahkan dengan tanda koma (contoh: `my_list = [1,'algoritma',True]` )"
   ]
  },
  {
   "cell_type": "code",
   "execution_count": null,
   "metadata": {
    "ExecuteTime": {
     "end_time": "2022-03-13T13:08:45.175254Z",
     "start_time": "2022-03-13T13:08:45.164745Z"
    }
   },
   "outputs": [],
   "source": []
  },
  {
   "cell_type": "markdown",
   "metadata": {},
   "source": [
    "---"
   ]
  },
  {
   "cell_type": "markdown",
   "metadata": {},
   "source": [
    "# Pandas Library\n",
    "## Import Library\n",
    "\n",
    "`pandas` adalah library yang powerful sebagai tools analisis data dan struktur pada Python. Dengan `pandas`, mengolah data menjadi mudah karena disediakan salah satu objek bernama **DataFrame**.\n",
    "\n",
    "> Lebih lengkapnya silahkan kunjungi [official documentation](https://pandas.pydata.org/)\n",
    "\n",
    "Untuk menggunakan `pandas`, kita perlu **import** terlebih dahulu library dengan cara berikut ini:"
   ]
  },
  {
   "cell_type": "code",
   "execution_count": 2,
   "metadata": {
    "ExecuteTime": {
     "end_time": "2022-03-13T13:10:14.526758Z",
     "start_time": "2022-03-13T13:10:13.398614Z"
    }
   },
   "outputs": [],
   "source": [
    "# import pandas\n",
    "import pandas as pd"
   ]
  },
  {
   "cell_type": "markdown",
   "metadata": {},
   "source": [
    "Command `as` disebut dengan *aliasing*. Dengan melakukan aliasing `pandas as pd`, kita tidak lagi perlu menuliskan `pandas` tiap kali kita memanggil library ini, kita cukup memanggilnya dengan `pd`."
   ]
  },
  {
   "cell_type": "markdown",
   "metadata": {},
   "source": [
    "Fungsi pada `pandas` dapat dipanggil dengan syntax seperti: `pandas.function_name()`. \n",
    "\n",
    "Langkah pertama yang akan kita lakukan adalah membaca data. Kita dapat menggunakan fungsi `.read_csv()` untuk membaca sebuah file dengan format `.csv`."
   ]
  },
  {
   "cell_type": "code",
   "execution_count": 3,
   "metadata": {
    "ExecuteTime": {
     "end_time": "2022-03-13T13:10:51.045048Z",
     "start_time": "2022-03-13T13:10:50.944249Z"
    }
   },
   "outputs": [
    {
     "data": {
      "text/html": [
       "<div>\n",
       "<style scoped>\n",
       "    .dataframe tbody tr th:only-of-type {\n",
       "        vertical-align: middle;\n",
       "    }\n",
       "\n",
       "    .dataframe tbody tr th {\n",
       "        vertical-align: top;\n",
       "    }\n",
       "\n",
       "    .dataframe thead th {\n",
       "        text-align: right;\n",
       "    }\n",
       "</style>\n",
       "<table border=\"1\" class=\"dataframe\">\n",
       "  <thead>\n",
       "    <tr style=\"text-align: right;\">\n",
       "      <th></th>\n",
       "      <th>EmployeeID</th>\n",
       "      <th>NIK</th>\n",
       "      <th>orighiredate_key</th>\n",
       "      <th>department_name</th>\n",
       "      <th>job_title</th>\n",
       "      <th>BUSINESS_UNIT</th>\n",
       "    </tr>\n",
       "  </thead>\n",
       "  <tbody>\n",
       "    <tr>\n",
       "      <th>0</th>\n",
       "      <td>1318</td>\n",
       "      <td>3308040301540010</td>\n",
       "      <td>8/28/1989</td>\n",
       "      <td>Executive</td>\n",
       "      <td>CEO</td>\n",
       "      <td>HEADOFFICE</td>\n",
       "    </tr>\n",
       "    <tr>\n",
       "      <th>1</th>\n",
       "      <td>1319</td>\n",
       "      <td>3524174301570009</td>\n",
       "      <td>8/28/1989</td>\n",
       "      <td>Executive</td>\n",
       "      <td>VP Stores</td>\n",
       "      <td>HEADOFFICE</td>\n",
       "    </tr>\n",
       "    <tr>\n",
       "      <th>2</th>\n",
       "      <td>1320</td>\n",
       "      <td>7603044201550014</td>\n",
       "      <td>8/28/1989</td>\n",
       "      <td>Executive</td>\n",
       "      <td>Legal Counsel</td>\n",
       "      <td>HEADOFFICE</td>\n",
       "    </tr>\n",
       "    <tr>\n",
       "      <th>3</th>\n",
       "      <td>1321</td>\n",
       "      <td>1571030201590009</td>\n",
       "      <td>8/28/1989</td>\n",
       "      <td>Executive</td>\n",
       "      <td>VP Human Resources</td>\n",
       "      <td>HEADOFFICE</td>\n",
       "    </tr>\n",
       "    <tr>\n",
       "      <th>4</th>\n",
       "      <td>1322</td>\n",
       "      <td>3528130901580018</td>\n",
       "      <td>8/31/1989</td>\n",
       "      <td>Executive</td>\n",
       "      <td>VP Finance</td>\n",
       "      <td>HEADOFFICE</td>\n",
       "    </tr>\n",
       "    <tr>\n",
       "      <th>...</th>\n",
       "      <td>...</td>\n",
       "      <td>...</td>\n",
       "      <td>...</td>\n",
       "      <td>...</td>\n",
       "      <td>...</td>\n",
       "      <td>...</td>\n",
       "    </tr>\n",
       "    <tr>\n",
       "      <th>4794</th>\n",
       "      <td>8332</td>\n",
       "      <td>5314086012940001</td>\n",
       "      <td>12/5/2013</td>\n",
       "      <td>Customer Service</td>\n",
       "      <td>Cashier</td>\n",
       "      <td>STORES</td>\n",
       "    </tr>\n",
       "    <tr>\n",
       "      <th>4795</th>\n",
       "      <td>8333</td>\n",
       "      <td>3306091912940014</td>\n",
       "      <td>12/5/2013</td>\n",
       "      <td>Customer Service</td>\n",
       "      <td>Cashier</td>\n",
       "      <td>STORES</td>\n",
       "    </tr>\n",
       "    <tr>\n",
       "      <th>4796</th>\n",
       "      <td>8334</td>\n",
       "      <td>8108106712940019</td>\n",
       "      <td>12/9/2013</td>\n",
       "      <td>Customer Service</td>\n",
       "      <td>Cashier</td>\n",
       "      <td>STORES</td>\n",
       "    </tr>\n",
       "    <tr>\n",
       "      <th>4797</th>\n",
       "      <td>8335</td>\n",
       "      <td>3601026812940002</td>\n",
       "      <td>12/10/2013</td>\n",
       "      <td>Dairy</td>\n",
       "      <td>Dairy Person</td>\n",
       "      <td>STORES</td>\n",
       "    </tr>\n",
       "    <tr>\n",
       "      <th>4798</th>\n",
       "      <td>8336</td>\n",
       "      <td>3312143112940008</td>\n",
       "      <td>12/11/2013</td>\n",
       "      <td>Dairy</td>\n",
       "      <td>Dairy Person</td>\n",
       "      <td>STORES</td>\n",
       "    </tr>\n",
       "  </tbody>\n",
       "</table>\n",
       "<p>4799 rows × 6 columns</p>\n",
       "</div>"
      ],
      "text/plain": [
       "      EmployeeID               NIK orighiredate_key   department_name  \\\n",
       "0           1318  3308040301540010        8/28/1989         Executive   \n",
       "1           1319  3524174301570009        8/28/1989         Executive   \n",
       "2           1320  7603044201550014        8/28/1989         Executive   \n",
       "3           1321  1571030201590009        8/28/1989         Executive   \n",
       "4           1322  3528130901580018        8/31/1989         Executive   \n",
       "...          ...               ...              ...               ...   \n",
       "4794        8332  5314086012940001        12/5/2013  Customer Service   \n",
       "4795        8333  3306091912940014        12/5/2013  Customer Service   \n",
       "4796        8334  8108106712940019        12/9/2013  Customer Service   \n",
       "4797        8335  3601026812940002       12/10/2013             Dairy   \n",
       "4798        8336  3312143112940008       12/11/2013             Dairy   \n",
       "\n",
       "               job_title BUSINESS_UNIT  \n",
       "0                    CEO    HEADOFFICE  \n",
       "1              VP Stores    HEADOFFICE  \n",
       "2          Legal Counsel    HEADOFFICE  \n",
       "3     VP Human Resources    HEADOFFICE  \n",
       "4             VP Finance    HEADOFFICE  \n",
       "...                  ...           ...  \n",
       "4794             Cashier        STORES  \n",
       "4795             Cashier        STORES  \n",
       "4796             Cashier        STORES  \n",
       "4797        Dairy Person        STORES  \n",
       "4798        Dairy Person        STORES  \n",
       "\n",
       "[4799 rows x 6 columns]"
      ]
     },
     "execution_count": 3,
     "metadata": {},
     "output_type": "execute_result"
    }
   ],
   "source": [
    "# read data\n",
    "employee = pd.read_csv('data/employee_all.csv')\n",
    "employee"
   ]
  },
  {
   "cell_type": "markdown",
   "metadata": {},
   "source": [
    "**Additional Information:**\n",
    "\n",
    "- Suatu tabel pada `pandas` disebut dengan **DataFrame**\n",
    "- Suatu tabel terdiri dari beberapa kolom, pada `pandas` disebut **Series**\n",
    "- Bagian paling kiri merupakan **index**, yaitu nama baris\n",
    "- Python menggunakan sistem **zero based indexing**, yaitu urutan dimulai dari angka 0."
   ]
  },
  {
   "cell_type": "markdown",
   "metadata": {},
   "source": [
    "## Data Inspection\n",
    "\n",
    "Untuk melihat beberapa baris awal maupun akhir, kita dapat menggunakan `.head()` and `.tail()`\n",
    "\n",
    "- `head(n)` digunakan untuk inspeksi `n` data teratas dari sebuah dataframe.\n",
    "- `tail(n)` digunakan untuk inspeksi `n` data terbawah dari sebuah dataframe."
   ]
  },
  {
   "cell_type": "code",
   "execution_count": 4,
   "metadata": {},
   "outputs": [
    {
     "data": {
      "text/html": [
       "<div>\n",
       "<style scoped>\n",
       "    .dataframe tbody tr th:only-of-type {\n",
       "        vertical-align: middle;\n",
       "    }\n",
       "\n",
       "    .dataframe tbody tr th {\n",
       "        vertical-align: top;\n",
       "    }\n",
       "\n",
       "    .dataframe thead th {\n",
       "        text-align: right;\n",
       "    }\n",
       "</style>\n",
       "<table border=\"1\" class=\"dataframe\">\n",
       "  <thead>\n",
       "    <tr style=\"text-align: right;\">\n",
       "      <th></th>\n",
       "      <th>EmployeeID</th>\n",
       "      <th>NIK</th>\n",
       "      <th>orighiredate_key</th>\n",
       "      <th>department_name</th>\n",
       "      <th>job_title</th>\n",
       "      <th>BUSINESS_UNIT</th>\n",
       "    </tr>\n",
       "  </thead>\n",
       "  <tbody>\n",
       "    <tr>\n",
       "      <th>0</th>\n",
       "      <td>1318</td>\n",
       "      <td>3308040301540010</td>\n",
       "      <td>8/28/1989</td>\n",
       "      <td>Executive</td>\n",
       "      <td>CEO</td>\n",
       "      <td>HEADOFFICE</td>\n",
       "    </tr>\n",
       "    <tr>\n",
       "      <th>1</th>\n",
       "      <td>1319</td>\n",
       "      <td>3524174301570009</td>\n",
       "      <td>8/28/1989</td>\n",
       "      <td>Executive</td>\n",
       "      <td>VP Stores</td>\n",
       "      <td>HEADOFFICE</td>\n",
       "    </tr>\n",
       "    <tr>\n",
       "      <th>2</th>\n",
       "      <td>1320</td>\n",
       "      <td>7603044201550014</td>\n",
       "      <td>8/28/1989</td>\n",
       "      <td>Executive</td>\n",
       "      <td>Legal Counsel</td>\n",
       "      <td>HEADOFFICE</td>\n",
       "    </tr>\n",
       "    <tr>\n",
       "      <th>3</th>\n",
       "      <td>1321</td>\n",
       "      <td>1571030201590009</td>\n",
       "      <td>8/28/1989</td>\n",
       "      <td>Executive</td>\n",
       "      <td>VP Human Resources</td>\n",
       "      <td>HEADOFFICE</td>\n",
       "    </tr>\n",
       "    <tr>\n",
       "      <th>4</th>\n",
       "      <td>1322</td>\n",
       "      <td>3528130901580018</td>\n",
       "      <td>8/31/1989</td>\n",
       "      <td>Executive</td>\n",
       "      <td>VP Finance</td>\n",
       "      <td>HEADOFFICE</td>\n",
       "    </tr>\n",
       "  </tbody>\n",
       "</table>\n",
       "</div>"
      ],
      "text/plain": [
       "   EmployeeID               NIK orighiredate_key department_name  \\\n",
       "0        1318  3308040301540010        8/28/1989       Executive   \n",
       "1        1319  3524174301570009        8/28/1989       Executive   \n",
       "2        1320  7603044201550014        8/28/1989       Executive   \n",
       "3        1321  1571030201590009        8/28/1989       Executive   \n",
       "4        1322  3528130901580018        8/31/1989       Executive   \n",
       "\n",
       "            job_title BUSINESS_UNIT  \n",
       "0                 CEO    HEADOFFICE  \n",
       "1           VP Stores    HEADOFFICE  \n",
       "2       Legal Counsel    HEADOFFICE  \n",
       "3  VP Human Resources    HEADOFFICE  \n",
       "4          VP Finance    HEADOFFICE  "
      ]
     },
     "execution_count": 4,
     "metadata": {},
     "output_type": "execute_result"
    }
   ],
   "source": [
    "# head\n",
    "employee.head()"
   ]
  },
  {
   "cell_type": "code",
   "execution_count": 5,
   "metadata": {},
   "outputs": [
    {
     "data": {
      "text/html": [
       "<div>\n",
       "<style scoped>\n",
       "    .dataframe tbody tr th:only-of-type {\n",
       "        vertical-align: middle;\n",
       "    }\n",
       "\n",
       "    .dataframe tbody tr th {\n",
       "        vertical-align: top;\n",
       "    }\n",
       "\n",
       "    .dataframe thead th {\n",
       "        text-align: right;\n",
       "    }\n",
       "</style>\n",
       "<table border=\"1\" class=\"dataframe\">\n",
       "  <thead>\n",
       "    <tr style=\"text-align: right;\">\n",
       "      <th></th>\n",
       "      <th>EmployeeID</th>\n",
       "      <th>NIK</th>\n",
       "      <th>orighiredate_key</th>\n",
       "      <th>department_name</th>\n",
       "      <th>job_title</th>\n",
       "      <th>BUSINESS_UNIT</th>\n",
       "    </tr>\n",
       "  </thead>\n",
       "  <tbody>\n",
       "    <tr>\n",
       "      <th>4794</th>\n",
       "      <td>8332</td>\n",
       "      <td>5314086012940001</td>\n",
       "      <td>12/5/2013</td>\n",
       "      <td>Customer Service</td>\n",
       "      <td>Cashier</td>\n",
       "      <td>STORES</td>\n",
       "    </tr>\n",
       "    <tr>\n",
       "      <th>4795</th>\n",
       "      <td>8333</td>\n",
       "      <td>3306091912940014</td>\n",
       "      <td>12/5/2013</td>\n",
       "      <td>Customer Service</td>\n",
       "      <td>Cashier</td>\n",
       "      <td>STORES</td>\n",
       "    </tr>\n",
       "    <tr>\n",
       "      <th>4796</th>\n",
       "      <td>8334</td>\n",
       "      <td>8108106712940019</td>\n",
       "      <td>12/9/2013</td>\n",
       "      <td>Customer Service</td>\n",
       "      <td>Cashier</td>\n",
       "      <td>STORES</td>\n",
       "    </tr>\n",
       "    <tr>\n",
       "      <th>4797</th>\n",
       "      <td>8335</td>\n",
       "      <td>3601026812940002</td>\n",
       "      <td>12/10/2013</td>\n",
       "      <td>Dairy</td>\n",
       "      <td>Dairy Person</td>\n",
       "      <td>STORES</td>\n",
       "    </tr>\n",
       "    <tr>\n",
       "      <th>4798</th>\n",
       "      <td>8336</td>\n",
       "      <td>3312143112940008</td>\n",
       "      <td>12/11/2013</td>\n",
       "      <td>Dairy</td>\n",
       "      <td>Dairy Person</td>\n",
       "      <td>STORES</td>\n",
       "    </tr>\n",
       "  </tbody>\n",
       "</table>\n",
       "</div>"
      ],
      "text/plain": [
       "      EmployeeID               NIK orighiredate_key   department_name  \\\n",
       "4794        8332  5314086012940001        12/5/2013  Customer Service   \n",
       "4795        8333  3306091912940014        12/5/2013  Customer Service   \n",
       "4796        8334  8108106712940019        12/9/2013  Customer Service   \n",
       "4797        8335  3601026812940002       12/10/2013             Dairy   \n",
       "4798        8336  3312143112940008       12/11/2013             Dairy   \n",
       "\n",
       "         job_title BUSINESS_UNIT  \n",
       "4794       Cashier        STORES  \n",
       "4795       Cashier        STORES  \n",
       "4796       Cashier        STORES  \n",
       "4797  Dairy Person        STORES  \n",
       "4798  Dairy Person        STORES  "
      ]
     },
     "execution_count": 5,
     "metadata": {},
     "output_type": "execute_result"
    }
   ],
   "source": [
    "# tail\n",
    "employee.tail()"
   ]
  },
  {
   "cell_type": "markdown",
   "metadata": {},
   "source": [
    "**Deskripsi data**:  \n",
    "Data `employee` merupakan data pegawai yang bekerja di suatu perusahaan retail (contoh: Trnsmart, LottMart, dsb.)\n",
    "- `EmployeeID`: Nomor ID pegawai\n",
    "- `NIK`: Nomor Induk Kependudukan pegawai\n",
    "- `orighiredate_key`: tanggal pegawai direkrut\n",
    "- `department_name`: nama departemen pegawai\n",
    "- `job_title`: jabatan pegawai\n",
    "- `BUSINESS_UNIT`: unit bisnis \n",
    "    - HEADOFFICE: kantor pusat\n",
    "    - STORES: toko cabang"
   ]
  },
  {
   "cell_type": "markdown",
   "metadata": {},
   "source": [
    "---"
   ]
  },
  {
   "cell_type": "markdown",
   "metadata": {},
   "source": [
    "# `pandas` Data Type\n",
    "\n",
    "**Dataframe** terdiri dari beberapa **Series** (mengacu pada satu kolom). Satu Series harus berisi data dengan **tipe data yang sama**. `pandas` akan menentukan tipe data dari masing-masing Series, tapi hasil penentuan dari `pandas` tidak selalu benar.\n",
    "\n",
    "![](assets/series-df.png)\n",
    "\n",
    "## Check Tipe Data pandas\n",
    "\n",
    "Cara cek tipe data: `dtypes` atau `.info()`"
   ]
  },
  {
   "cell_type": "code",
   "execution_count": 7,
   "metadata": {
    "ExecuteTime": {
     "end_time": "2022-03-13T13:12:51.326595Z",
     "start_time": "2022-03-13T13:12:51.260646Z"
    }
   },
   "outputs": [
    {
     "data": {
      "text/plain": [
       "EmployeeID           int64\n",
       "NIK                  int64\n",
       "orighiredate_key    object\n",
       "department_name     object\n",
       "job_title           object\n",
       "BUSINESS_UNIT       object\n",
       "dtype: object"
      ]
     },
     "execution_count": 7,
     "metadata": {},
     "output_type": "execute_result"
    }
   ],
   "source": [
    "# .dtypes\n",
    "employee.dtypes"
   ]
  },
  {
   "cell_type": "code",
   "execution_count": 8,
   "metadata": {
    "ExecuteTime": {
     "end_time": "2022-03-13T13:13:02.195801Z",
     "start_time": "2022-03-13T13:13:02.182001Z"
    }
   },
   "outputs": [
    {
     "name": "stdout",
     "output_type": "stream",
     "text": [
      "<class 'pandas.core.frame.DataFrame'>\n",
      "RangeIndex: 4799 entries, 0 to 4798\n",
      "Data columns (total 6 columns):\n",
      " #   Column            Non-Null Count  Dtype \n",
      "---  ------            --------------  ----- \n",
      " 0   EmployeeID        4799 non-null   int64 \n",
      " 1   NIK               4799 non-null   int64 \n",
      " 2   orighiredate_key  4799 non-null   object\n",
      " 3   department_name   4799 non-null   object\n",
      " 4   job_title         4799 non-null   object\n",
      " 5   BUSINESS_UNIT     4799 non-null   object\n",
      "dtypes: int64(2), object(4)\n",
      "memory usage: 225.1+ KB\n"
     ]
    }
   ],
   "source": [
    "# .info()\n",
    "employee.info()"
   ]
  },
  {
   "cell_type": "markdown",
   "metadata": {},
   "source": [
    "✏️ **Notes:**\n",
    "\n",
    "- `int64`: sama dengan int (integer)\n",
    "- `float64`: sama dengan float\n",
    "- `object`: sama dengan string"
   ]
  },
  {
   "cell_type": "markdown",
   "metadata": {},
   "source": [
    "## Categorical Variables\n",
    "\n",
    "Karakteristik tipe data `category` :\n",
    "\n",
    "- Dapat dikelompokkan menjadi beberapa kelompok (category)\n",
    "- Berulang\n",
    "\n",
    "Dua alasan mengapa kita perlu menggunakan tipe data categorical:\n",
    "\n",
    "1. Dari sisi \"business perspective\", hal ini dapat memandu seorang Analyst untuk memilih metode statistik atau tipe plot mana yang digunakan untuk mengolah data. Terdapat beberapa metode statisitik dan tipe plot yang cocok untuk tipe data categorical.\n",
    "\n",
    "2. Dari sisi teknikal, tipe data categorical akan menghemat memori dan menambah kecepatan komputasional.\n",
    "\n",
    "Mari kita cek kembali tipe data pada object `employee`. Manakah yang seharusnya memiliki tipe data category?"
   ]
  },
  {
   "cell_type": "code",
   "execution_count": null,
   "metadata": {
    "ExecuteTime": {
     "end_time": "2022-03-13T13:30:36.096448Z",
     "start_time": "2022-03-13T13:30:36.083474Z"
    }
   },
   "outputs": [],
   "source": [
    "# check tipe data\n",
    "employee.dtypes"
   ]
  },
  {
   "cell_type": "markdown",
   "metadata": {},
   "source": [
    "Kolom yang seharusnya category:\n",
    "\n",
    "- \n",
    "- \n",
    "- "
   ]
  },
  {
   "cell_type": "markdown",
   "metadata": {},
   "source": [
    "Kita bisa menggunakan method berikut untuk mengidentifikasi kolom mana yang cocok untuk disimpan ke tipe data `category`\n",
    "\n",
    "- `.unique()` to see unique values of a Series\n",
    "- `.nunique()` to see number of unique values of a Series or DataFrame"
   ]
  },
  {
   "cell_type": "markdown",
   "metadata": {},
   "source": [
    "## Datetime Variables\n",
    "\n",
    "Python juga mengenal sebuah tipe data lagi yaitu tipe data *datetime* (`datetime64[ns]`). Biasanya data waktu ataupun tanggal masih terbaca dalam bentuk *object*, maka dari itu kita harus ubah mejadi tipe data yang sesuai."
   ]
  },
  {
   "cell_type": "markdown",
   "metadata": {},
   "source": [
    "Kolom yang seharusnya `datetime64[ns]`:\n",
    "\n",
    "- "
   ]
  },
  {
   "cell_type": "markdown",
   "metadata": {},
   "source": [
    "## Mengganti Tipe Data\n",
    "\n",
    "Method `astype()` digunakan untuk mengganti tipe data."
   ]
  },
  {
   "cell_type": "markdown",
   "metadata": {},
   "source": [
    "**Syntax** \n",
    "```\n",
    "df['column_name'] = df['column_name'].astype('new_data_types')\n",
    "```\n",
    "\n",
    "**Contoh: Mengubah tipe data ke category**\n",
    "```\n",
    "employee['BUSINESS_UNIT'] = employee['BUSINESS_UNIT'].astype('category')\n",
    "```"
   ]
  },
  {
   "cell_type": "code",
   "execution_count": null,
   "metadata": {},
   "outputs": [],
   "source": [
    "# cek tipe data employee\n",
    "employee.dtypes"
   ]
  },
  {
   "cell_type": "markdown",
   "metadata": {},
   "source": [
    "> **Kolom category:** \n",
    "\n",
    "> **Kolom datetime64[ns]:** \n",
    "\n",
    "> **Kolom object:** "
   ]
  },
  {
   "cell_type": "code",
   "execution_count": 9,
   "metadata": {},
   "outputs": [
    {
     "data": {
      "text/plain": [
       "EmployeeID             int64\n",
       "NIK                    int64\n",
       "orighiredate_key      object\n",
       "department_name       object\n",
       "job_title             object\n",
       "BUSINESS_UNIT       category\n",
       "dtype: object"
      ]
     },
     "execution_count": 9,
     "metadata": {},
     "output_type": "execute_result"
    }
   ],
   "source": [
    "# ubah tipe data dari data employee\n",
    "employee['BUSINESS_UNIT']=employee['BUSINESS_UNIT'].astype('category')\n",
    "\n",
    "# cek kembali tipe data\n",
    "employee.dtypes"
   ]
  },
  {
   "cell_type": "code",
   "execution_count": 10,
   "metadata": {},
   "outputs": [
    {
     "data": {
      "text/plain": [
       "EmployeeID             int64\n",
       "NIK                    int64\n",
       "orighiredate_key      object\n",
       "department_name     category\n",
       "job_title           category\n",
       "BUSINESS_UNIT       category\n",
       "dtype: object"
      ]
     },
     "execution_count": 10,
     "metadata": {},
     "output_type": "execute_result"
    }
   ],
   "source": [
    "# ubah tipe data beberapa kolom\n",
    "kolom_categori = ['department_name','job_title']\n",
    "employee[kolom_categori]=employee[kolom_categori].astype('category')\n",
    "# cek kembali tipe data\n",
    "employee.dtypes"
   ]
  },
  {
   "cell_type": "code",
   "execution_count": 11,
   "metadata": {},
   "outputs": [
    {
     "data": {
      "text/plain": [
       "EmployeeID                   int64\n",
       "NIK                          int64\n",
       "orighiredate_key    datetime64[ns]\n",
       "department_name           category\n",
       "job_title                 category\n",
       "BUSINESS_UNIT             category\n",
       "dtype: object"
      ]
     },
     "execution_count": 11,
     "metadata": {},
     "output_type": "execute_result"
    }
   ],
   "source": [
    "# ubah tipe data ke datetime64[ns]\n",
    "employee['orighiredate_key']=employee['orighiredate_key'].astype('datetime64[ns]')\n",
    "employee.dtypes"
   ]
  },
  {
   "cell_type": "code",
   "execution_count": 12,
   "metadata": {},
   "outputs": [
    {
     "data": {
      "text/plain": [
       "EmployeeID                  object\n",
       "NIK                         object\n",
       "orighiredate_key    datetime64[ns]\n",
       "department_name           category\n",
       "job_title                 category\n",
       "BUSINESS_UNIT             category\n",
       "dtype: object"
      ]
     },
     "execution_count": 12,
     "metadata": {},
     "output_type": "execute_result"
    }
   ],
   "source": [
    "# ubah tipe data ke object\n",
    "kolom_object = ['EmployeeID','NIK']\n",
    "employee[kolom_object]=employee[kolom_object].astype('object')\n",
    "employee.dtypes"
   ]
  },
  {
   "cell_type": "code",
   "execution_count": null,
   "metadata": {},
   "outputs": [],
   "source": [
    "# cek kembali tipe data\n",
    "employee.dtypes"
   ]
  },
  {
   "cell_type": "markdown",
   "metadata": {},
   "source": [
    "🔎 Nice to know: **Method vs. Atribut**\n",
    "\n",
    "- Secara tampilan, method selalu diikuti dengan tanda kurung ()\n",
    "- Secara tampilan, atribut tidak diikuti oleh tanda kurung\n",
    "- Dalam sebuah method, terdapat nilai/parameter yang dapat diganti\n",
    "- Pada atribut, tidak ada nilai/parameter yang dapat diganti"
   ]
  },
  {
   "cell_type": "markdown",
   "metadata": {},
   "source": [
    "### Rangkuman Data Types\n",
    "\n",
    "| Pandas dtype  | Python type  | Usage                                        |\n",
    "|---------------|--------------|----------------------------------------------|\n",
    "| object        | str          | Text or mixed numeric and non-numeric values |\n",
    "| int64         | int          | Integer numbers                              |\n",
    "| float64       | float        | Floating point numbers                       |\n",
    "| bool          | bool         | True/False values                            |\n",
    "| datetime64[ns]| NA           | Date and time values                         |\n",
    "| category      | NA           | Finite list of text values                   |"
   ]
  },
  {
   "cell_type": "markdown",
   "metadata": {},
   "source": [
    "# Data Pre-processing and Feature Engineering"
   ]
  },
  {
   "cell_type": "markdown",
   "metadata": {},
   "source": [
    "## Data Enrichment\n",
    "\n",
    "Data enrichment adalah proses menambah dan memperbaiki data mentah (raw data) supaya kualitas data yang dimiliki menjadi lebih baik dan komplet. Kita dapat melengkapi informasi dalam data kita menggunakan nomor NIK. Untuk dapat mengekstraksi informasi dari nomor NIK, kita dapat menggunakan library `nomiden`. Dokumentasi lengkap: https://nomiden.readthedocs.io/\n",
    "\n",
    "Untuk mendapatkan seluruh informasi dari nomor NIK dalam suatu kolom, kita dapat menggunakan sintaks berikut.\n",
    "\n",
    "`df['NIK'].apply(lambda x: nr.NIK(x).<ATRIBUT>)`\n",
    "\n",
    "Beberapa atribut yang dapat kita gunakan:\n",
    "- `.province`: Provinsi\n",
    "- `.city`: Kota/Kabupaten\n",
    "- `.district`: Kecamatan\n",
    "- `.gender`: Gender\n",
    "- `.birthdtm`: Tanggal lahir dalam datetime\n",
    "- `.birthday`: Tanggal lahir dalam string\n",
    "- `.age`: Usia\n",
    "- `.nth_person`: Kode registrasi dari Dukcapil\n",
    "- `.all_info`: Seluruh informasi"
   ]
  },
  {
   "cell_type": "code",
   "execution_count": 15,
   "metadata": {},
   "outputs": [
    {
     "data": {
      "text/html": [
       "<div>\n",
       "<style scoped>\n",
       "    .dataframe tbody tr th:only-of-type {\n",
       "        vertical-align: middle;\n",
       "    }\n",
       "\n",
       "    .dataframe tbody tr th {\n",
       "        vertical-align: top;\n",
       "    }\n",
       "\n",
       "    .dataframe thead th {\n",
       "        text-align: right;\n",
       "    }\n",
       "</style>\n",
       "<table border=\"1\" class=\"dataframe\">\n",
       "  <thead>\n",
       "    <tr style=\"text-align: right;\">\n",
       "      <th></th>\n",
       "      <th>NIK</th>\n",
       "      <th>province</th>\n",
       "      <th>city</th>\n",
       "      <th>district</th>\n",
       "      <th>gender</th>\n",
       "      <th>birth_datetime</th>\n",
       "      <th>birthday</th>\n",
       "      <th>age</th>\n",
       "      <th>regist_code</th>\n",
       "    </tr>\n",
       "  </thead>\n",
       "  <tbody>\n",
       "    <tr>\n",
       "      <th>0</th>\n",
       "      <td>3308040301540010</td>\n",
       "      <td>JAWA TENGAH</td>\n",
       "      <td>KAB. MAGELANG</td>\n",
       "      <td>Salam</td>\n",
       "      <td>Male</td>\n",
       "      <td>1954-01-03</td>\n",
       "      <td>03 January 1954</td>\n",
       "      <td>69</td>\n",
       "      <td>10</td>\n",
       "    </tr>\n",
       "    <tr>\n",
       "      <th>1</th>\n",
       "      <td>3524174301570009</td>\n",
       "      <td>JAWA TIMUR</td>\n",
       "      <td>KAB. LAMONGAN</td>\n",
       "      <td>Sukodadi</td>\n",
       "      <td>Female</td>\n",
       "      <td>1957-01-03</td>\n",
       "      <td>03 January 1957</td>\n",
       "      <td>66</td>\n",
       "      <td>9</td>\n",
       "    </tr>\n",
       "    <tr>\n",
       "      <th>2</th>\n",
       "      <td>7603044201550014</td>\n",
       "      <td>SULAWESI BARAT</td>\n",
       "      <td>KAB. MAMASA</td>\n",
       "      <td>Pana</td>\n",
       "      <td>Female</td>\n",
       "      <td>1955-01-02</td>\n",
       "      <td>02 January 1955</td>\n",
       "      <td>68</td>\n",
       "      <td>14</td>\n",
       "    </tr>\n",
       "    <tr>\n",
       "      <th>3</th>\n",
       "      <td>1571030201590009</td>\n",
       "      <td>JAMBI</td>\n",
       "      <td>KOTA JAMBI</td>\n",
       "      <td>Jambi Timur</td>\n",
       "      <td>Male</td>\n",
       "      <td>1959-01-02</td>\n",
       "      <td>02 January 1959</td>\n",
       "      <td>64</td>\n",
       "      <td>9</td>\n",
       "    </tr>\n",
       "    <tr>\n",
       "      <th>4</th>\n",
       "      <td>3528130901580018</td>\n",
       "      <td>JAWA TIMUR</td>\n",
       "      <td>KAB. PAMEKASAN</td>\n",
       "      <td>Pasean</td>\n",
       "      <td>Male</td>\n",
       "      <td>1958-01-09</td>\n",
       "      <td>09 January 1958</td>\n",
       "      <td>65</td>\n",
       "      <td>18</td>\n",
       "    </tr>\n",
       "    <tr>\n",
       "      <th>...</th>\n",
       "      <td>...</td>\n",
       "      <td>...</td>\n",
       "      <td>...</td>\n",
       "      <td>...</td>\n",
       "      <td>...</td>\n",
       "      <td>...</td>\n",
       "      <td>...</td>\n",
       "      <td>...</td>\n",
       "      <td>...</td>\n",
       "    </tr>\n",
       "    <tr>\n",
       "      <th>4794</th>\n",
       "      <td>5314086012940001</td>\n",
       "      <td>NUSA TENGGARA TIMUR</td>\n",
       "      <td>KAB. ROTE NDAO</td>\n",
       "      <td>Rote Selatan</td>\n",
       "      <td>Female</td>\n",
       "      <td>1994-12-20</td>\n",
       "      <td>20 December 1994</td>\n",
       "      <td>28</td>\n",
       "      <td>1</td>\n",
       "    </tr>\n",
       "    <tr>\n",
       "      <th>4795</th>\n",
       "      <td>3306091912940014</td>\n",
       "      <td>JAWA TENGAH</td>\n",
       "      <td>KAB. PURWOREJO</td>\n",
       "      <td>Kutoarjo</td>\n",
       "      <td>Male</td>\n",
       "      <td>1994-12-19</td>\n",
       "      <td>19 December 1994</td>\n",
       "      <td>28</td>\n",
       "      <td>14</td>\n",
       "    </tr>\n",
       "    <tr>\n",
       "      <th>4796</th>\n",
       "      <td>8108106712940019</td>\n",
       "      <td>MALUKU</td>\n",
       "      <td>KAB. MALUKU BARAT DAYA</td>\n",
       "      <td>Dawelor Dawera</td>\n",
       "      <td>Female</td>\n",
       "      <td>1994-12-27</td>\n",
       "      <td>27 December 1994</td>\n",
       "      <td>28</td>\n",
       "      <td>19</td>\n",
       "    </tr>\n",
       "    <tr>\n",
       "      <th>4797</th>\n",
       "      <td>3601026812940002</td>\n",
       "      <td>BANTEN</td>\n",
       "      <td>KAB. PANDEGLANG</td>\n",
       "      <td>Cimanggu</td>\n",
       "      <td>Female</td>\n",
       "      <td>1994-12-28</td>\n",
       "      <td>28 December 1994</td>\n",
       "      <td>28</td>\n",
       "      <td>2</td>\n",
       "    </tr>\n",
       "    <tr>\n",
       "      <th>4798</th>\n",
       "      <td>3312143112940008</td>\n",
       "      <td>JAWA TENGAH</td>\n",
       "      <td>KAB. WONOGIRI</td>\n",
       "      <td>Sidoharjo</td>\n",
       "      <td>Male</td>\n",
       "      <td>1994-12-31</td>\n",
       "      <td>31 December 1994</td>\n",
       "      <td>28</td>\n",
       "      <td>8</td>\n",
       "    </tr>\n",
       "  </tbody>\n",
       "</table>\n",
       "<p>4799 rows × 9 columns</p>\n",
       "</div>"
      ],
      "text/plain": [
       "                   NIK             province                    city  \\\n",
       "0     3308040301540010          JAWA TENGAH           KAB. MAGELANG   \n",
       "1     3524174301570009           JAWA TIMUR           KAB. LAMONGAN   \n",
       "2     7603044201550014       SULAWESI BARAT             KAB. MAMASA   \n",
       "3     1571030201590009                JAMBI              KOTA JAMBI   \n",
       "4     3528130901580018           JAWA TIMUR          KAB. PAMEKASAN   \n",
       "...                ...                  ...                     ...   \n",
       "4794  5314086012940001  NUSA TENGGARA TIMUR          KAB. ROTE NDAO   \n",
       "4795  3306091912940014          JAWA TENGAH          KAB. PURWOREJO   \n",
       "4796  8108106712940019               MALUKU  KAB. MALUKU BARAT DAYA   \n",
       "4797  3601026812940002               BANTEN         KAB. PANDEGLANG   \n",
       "4798  3312143112940008          JAWA TENGAH           KAB. WONOGIRI   \n",
       "\n",
       "            district  gender birth_datetime          birthday  age  \\\n",
       "0              Salam    Male     1954-01-03   03 January 1954   69   \n",
       "1           Sukodadi  Female     1957-01-03   03 January 1957   66   \n",
       "2               Pana  Female     1955-01-02   02 January 1955   68   \n",
       "3        Jambi Timur    Male     1959-01-02   02 January 1959   64   \n",
       "4             Pasean    Male     1958-01-09   09 January 1958   65   \n",
       "...              ...     ...            ...               ...  ...   \n",
       "4794    Rote Selatan  Female     1994-12-20  20 December 1994   28   \n",
       "4795        Kutoarjo    Male     1994-12-19  19 December 1994   28   \n",
       "4796  Dawelor Dawera  Female     1994-12-27  27 December 1994   28   \n",
       "4797        Cimanggu  Female     1994-12-28  28 December 1994   28   \n",
       "4798       Sidoharjo    Male     1994-12-31  31 December 1994   28   \n",
       "\n",
       "      regist_code  \n",
       "0              10  \n",
       "1               9  \n",
       "2              14  \n",
       "3               9  \n",
       "4              18  \n",
       "...           ...  \n",
       "4794            1  \n",
       "4795           14  \n",
       "4796           19  \n",
       "4797            2  \n",
       "4798            8  \n",
       "\n",
       "[4799 rows x 9 columns]"
      ]
     },
     "execution_count": 15,
     "metadata": {},
     "output_type": "execute_result"
    }
   ],
   "source": [
    "from nomiden import reader as nr\n",
    "\n",
    "nik_generate = pd.DataFrame(employee['NIK'].apply(lambda x:nr.NIK(x).all_info).to_list()) \n",
    "nik_generate"
   ]
  },
  {
   "cell_type": "markdown",
   "metadata": {},
   "source": [
    "## Merge DataFrames\n",
    "\n",
    "Data yang dihasilkan dari proses enrichment merupakan suatu dataframe tersendiri `nik_generate`, terpisah dari data `employee`. Mari kita gabungkan kedua dataframe tersebut menggunakan method `.merge()`, parameter:\n",
    "- `right`: tabel yang ingin digabungkan\n",
    "- `on` : kolom penghubung antar 2 dataframe"
   ]
  },
  {
   "cell_type": "code",
   "execution_count": null,
   "metadata": {},
   "outputs": [],
   "source": [
    "# code here\n"
   ]
  },
  {
   "cell_type": "markdown",
   "metadata": {},
   "source": [
    "## Object Datetime Partition\n",
    "\n",
    "Setelah melakukan konversi tipe data menjadi bentuk `datetime`, kita dapat melakukan partisi untuk menggali informasi yang lebih spesifik seperti tahun, bulan, hari, dan jam.<br>\n",
    "\n",
    "**Date component (numeric)**\n",
    "- `.dt.year` -> partisi tahun\n",
    "- `.dt.month` -> partisi bulan (angka)\n",
    "- `.dt.day` -> partisi day/tanggal (dalam angka)\n",
    "- `.dt.dayofweek` -> Monday=0, Sunday=6\n",
    "\n",
    "**Date component (string)**\n",
    "- `.dt.month_name()`-> partisi bulan (nama)\n",
    "- `.dt.day_name()`-> partisi hari (nama)\n",
    "\n",
    "**Time component**\n",
    "- `.dt.hour` -> partisi jam\n",
    "- `.dt.minute` -> partisi menit\n",
    "- `.dt.second` -> partisi detik\n",
    "\n",
    "[Klik di sini untuk Dokumentasinya](https://pandas.pydata.org/pandas-docs/stable/reference/series.html#datetimelike-properties)"
   ]
  },
  {
   "cell_type": "markdown",
   "metadata": {},
   "source": [
    "**Partisi `dt.month`**"
   ]
  },
  {
   "cell_type": "code",
   "execution_count": null,
   "metadata": {},
   "outputs": [],
   "source": []
  },
  {
   "cell_type": "markdown",
   "metadata": {},
   "source": [
    "**Partisi `dt.month_name()`**"
   ]
  },
  {
   "cell_type": "code",
   "execution_count": null,
   "metadata": {},
   "outputs": [],
   "source": []
  },
  {
   "cell_type": "markdown",
   "metadata": {},
   "source": [
    "### Dive Deeper"
   ]
  },
  {
   "cell_type": "markdown",
   "metadata": {},
   "source": [
    "**Soal 1**: Buatlah kolom `join_year` yang berisi tahun rekrutmen para pegawai!"
   ]
  },
  {
   "cell_type": "code",
   "execution_count": null,
   "metadata": {},
   "outputs": [],
   "source": [
    "# code here\n"
   ]
  },
  {
   "cell_type": "markdown",
   "metadata": {},
   "source": [
    "**Soal 2**: Buatlah kolom `birth_year` yang berisi tahun kelahiran para pegawai!"
   ]
  },
  {
   "cell_type": "code",
   "execution_count": null,
   "metadata": {},
   "outputs": [],
   "source": [
    "# code here\n"
   ]
  },
  {
   "cell_type": "markdown",
   "metadata": {},
   "source": [
    "## Categorization (Binning)\n",
    "\n",
    "Setelah mendapatkan tahun kelahiran dari tiap pegawai, kali ini kita ingin mengetahui generasi dari para pegawai, apakah beliau termasuk Gen Z atau Boomers?\n",
    "\n",
    "Untuk mengubah nilai numerik menjadi kategori, kita dapat menggunakan fungsi `pd.cut()`, parameter:\n",
    "- `x`: kolom numerik yang akan dikategorikan\n",
    "- `bins`: list, batas-batas pengkategorian\n",
    "- `labels`: list, label kategori yang akan dihasilkan"
   ]
  },
  {
   "cell_type": "code",
   "execution_count": null,
   "metadata": {},
   "outputs": [],
   "source": [
    "import numpy as np\n",
    "\n",
    "gen_bins =  [0, 1900, 1927, 1945, 1964, 1980, 1996, 2012, np.inf]\n",
    "gen_names = ['Lost', 'Greatest', 'Silent', 'Boomers', 'Gen. X', 'Gen. Y (Millenials)', 'Gen. Z (Zoomers)', 'Alpha']\n",
    "\n",
    "# simpan ke kolom 'generation'\n"
   ]
  },
  {
   "cell_type": "markdown",
   "metadata": {},
   "source": [
    "## Data Exporting\n",
    "\n",
    "Setelah melakukan serangkaian proses pembersihan data dan *feature engineering*, tentunya akan melelahkan dan memakan waktu jika kita harus mengulangi tahap-tahap di atas tiap kali kita akan melakukan analisis. Oleh karena itu, kita dapat menyimpan/mengekspor hasil kerja keras kita ke dalam suatu file.\n",
    "\n",
    "Pertama mari kita cek terlebih dahulu beberapa data teratas dan tipe data kita, `employee_merge`"
   ]
  },
  {
   "cell_type": "code",
   "execution_count": null,
   "metadata": {},
   "outputs": [],
   "source": [
    "# inspeksi beberapa data teratas\n",
    "employ_merge.head()"
   ]
  },
  {
   "cell_type": "code",
   "execution_count": null,
   "metadata": {},
   "outputs": [],
   "source": [
    "# cek tipe data\n",
    "employ_merge.dtypes"
   ]
  },
  {
   "cell_type": "markdown",
   "metadata": {},
   "source": [
    "### Export to CSV\n",
    "\n",
    "Untuk mengekspor data ke bentuk CSV, kita dapat menggunakan method `.to_csv()`"
   ]
  },
  {
   "cell_type": "code",
   "execution_count": null,
   "metadata": {},
   "outputs": [],
   "source": [
    "# simpan ke format CSV dengan nama file employ_merge.csv\n"
   ]
  },
  {
   "cell_type": "code",
   "execution_count": null,
   "metadata": {},
   "outputs": [],
   "source": [
    "# baca data employ_merge.csv dan assign ke variabel employ_csv \n",
    "employ_csv = ...\n",
    "employ_csv.head()"
   ]
  },
  {
   "cell_type": "code",
   "execution_count": null,
   "metadata": {},
   "outputs": [],
   "source": [
    "# cek tipe data employ_csv\n",
    "employ_csv.dtypes"
   ]
  },
  {
   "cell_type": "markdown",
   "metadata": {},
   "source": [
    "Ternyata tipe data berubah jika kita menyimpan dataframe menjadi file CSV. Hal ini dikarenakan data disimpan sebagai *plain text*. Sebagai alternatif, kita dapat menyimpan dataframe menjadi file Pickle."
   ]
  },
  {
   "cell_type": "markdown",
   "metadata": {},
   "source": [
    "### Export to Pickle\n",
    "\n",
    "**Pickling**: menyimpan suatu objek Python ke sebuah file binary (byte stream).\n",
    "- Simpan data dengan method `.to_pickle()`\n",
    "- Kemudian silahkan cek file pickle pada folder di mana file `.ipynb` ini berada\n",
    "\n",
    "**Unpickling**: Membaca file `pickle` ke dalam dataframe \n",
    "- Baca data dengan `pd.read_pickle()`"
   ]
  },
  {
   "cell_type": "code",
   "execution_count": null,
   "metadata": {},
   "outputs": [],
   "source": [
    "# simpan ke format pickle\n"
   ]
  },
  {
   "cell_type": "code",
   "execution_count": null,
   "metadata": {},
   "outputs": [],
   "source": [
    "# baca data employ_merge.pkl dan assign ke variabel employ_pkl \n",
    "employ_pkl = ...\n",
    "employ_pkl.head()"
   ]
  },
  {
   "cell_type": "code",
   "execution_count": null,
   "metadata": {},
   "outputs": [],
   "source": [
    "# cek tipe data employ_pkl\n",
    "employ_pkl.dtypes"
   ]
  },
  {
   "cell_type": "markdown",
   "metadata": {},
   "source": [
    "**Pros & Cons Pickle file**:\n",
    "\n",
    "Kelebihan:\n",
    "- Menjaga struktur data dari dataframe\n",
    "- Mempertahankan tipe data dari dataframe\n",
    "\n",
    "Kekurangan:\n",
    "- Hanya bisa dibaca dengan Python dan tidak bisa langsung diakses dengan double click\n",
    "- Pickle dari sumber yang tidak terpercaya rentan untuk menyebarkan malware"
   ]
  },
  {
   "cell_type": "markdown",
   "metadata": {},
   "source": [
    "# Exploratory Data Analysis\n",
    "\n",
    "Exploratory Data Analysis (**EDA**) mengacu pada proses melakukan investigasi awal pada data, seringkali dengan tujuan untuk lebih mengenal karakteristik data. EDA dilakukan dengan bantuan ringkasan statistik dan visualisasi sederhana untuk melihat struktur data yang kita miliki.\n",
    "\n",
    "EDA:\n",
    "- Melihat struktur/bentuk data\n",
    "- Melihat statistika data\n",
    "- Memvisualisasikan data\n",
    "\n",
    "Beberapa tools sederhana pada `pandas` yang dapat digunakan untuk melakukan EDA adalah sebagai berikut:\n",
    "- `.head()` and `.tail()`\n",
    "- `.shape`\n",
    "- `.describe()`"
   ]
  },
  {
   "cell_type": "markdown",
   "metadata": {},
   "source": [
    "## `.shape`\n",
    "\n",
    "`.shape` adalah atribut dari sebuah dataframe yang memberikan informasi terkait bentuk (ukuran) data"
   ]
  },
  {
   "cell_type": "code",
   "execution_count": null,
   "metadata": {},
   "outputs": [],
   "source": [
    "# check shape\n"
   ]
  },
  {
   "cell_type": "markdown",
   "metadata": {},
   "source": [
    "✏️ Notes : `shape` akan mengeluarkan jumlah baris dan kolom (baris, kolom)\n",
    "- `shape[0]` mengambil informasi jumlah baris\n",
    "- `shape[1]` mengambil informasi jumlah kolom"
   ]
  },
  {
   "cell_type": "code",
   "execution_count": null,
   "metadata": {},
   "outputs": [],
   "source": [
    "# mengeluarkan jumlah baris\n"
   ]
  },
  {
   "cell_type": "code",
   "execution_count": null,
   "metadata": {},
   "outputs": [],
   "source": [
    "# mengeluarkan jumlah kolom\n"
   ]
  },
  {
   "cell_type": "markdown",
   "metadata": {},
   "source": [
    "## `.describe()`\n",
    "\n",
    "Method `describe()` menampilkan 8 ringkasan statistika deskriptif. Secara default menampilkan ringkasan untuk kolom numerik. \n",
    "\n",
    "Ringkasan statistika yang dimaksud adalah sebagai berikut:\n",
    "- count: banyaknya baris pada dataframe\n",
    "- mean: rata-rata nilai\n",
    "- std: Standard Deviation, jarak rata-rata antara data ke mean (titik pusat data)\n",
    "- min: Minimum Value, nilai terkecil dari keseluruhan data\n",
    "- 25%: 25th Percentile (Q1)\n",
    "- 50%: 50th Percentile (Q2/Median)\n",
    "- 75%: 75th Percentile (Q3)\n",
    "- max: Maximum Value, nilai terbesar dari keseluruhan data"
   ]
  },
  {
   "cell_type": "code",
   "execution_count": null,
   "metadata": {},
   "outputs": [],
   "source": [
    "# deskripsi dari data rice\n"
   ]
  },
  {
   "cell_type": "markdown",
   "metadata": {},
   "source": [
    "✏️ **Insight** : \n",
    "- ...\n",
    "- ...\n",
    "- ..."
   ]
  },
  {
   "cell_type": "markdown",
   "metadata": {},
   "source": [
    "Kita bisa menambahkan parameter `include` ataupun `exclude` pada `describe()` untuk melihat statistika deskriptif dari variable non-numeric:"
   ]
  },
  {
   "cell_type": "code",
   "execution_count": null,
   "metadata": {},
   "outputs": [],
   "source": [
    "# include category\n"
   ]
  },
  {
   "cell_type": "markdown",
   "metadata": {},
   "source": [
    "Hasil describe category\n",
    "- **unique**: jumlah kategori unik\n",
    "- **top**: kategori yang paling sering muncul\n",
    "- **freq**: frekuensi kemunculan (jumlah baris) kategori **top**"
   ]
  },
  {
   "cell_type": "markdown",
   "metadata": {},
   "source": [
    "✏️ **Insight** : \n",
    "- ...\n",
    "- ...\n",
    "- ..."
   ]
  },
  {
   "cell_type": "markdown",
   "metadata": {},
   "source": [
    "## Subsetting\n",
    "\n",
    "Subsetting digunakan untuk memilih dan mengambil sebagian data yang hanya diperlukan dalam proses analisa data yang sedang dikerjakan. Contohnya:\n",
    "- Melihat pegawai dengan masa kerja tertentu untuk pemberian work anniversary benefit\n",
    "- Melihat pegawai dengan gender perempuan untuk sosialisasi *maternity leave*\n",
    "- Meninjau performa pegawai dari divisi tertentu\n",
    "- dan sebagainya"
   ]
  },
  {
   "cell_type": "markdown",
   "metadata": {},
   "source": [
    "### Conditional Subsetting\n",
    "\n",
    "Misal pada dataframe `employee_merge`, kita ingin mengambil beberapa data dengan kondisi sebagai berikut:\n",
    "\n",
    "- Pegawai yang bekerja pada unit HEADOFFICE: `BUSINESS_UNIT == 'HEADOFFICE'`\n",
    "- Pegawai yang lahir pada tahun 2000an: `birth_year >= 2000`\n",
    "- Pegawai selain CEO: `job_title != 'CEO'`\n",
    "\n",
    "Syntax penulisan untuk conditional subsetting adalah:\n",
    "\n",
    "**`df[df['column_name'] <comparison_operator> <value>]`**\n",
    "\n",
    "atau\n",
    "\n",
    "**`df[df.column_name <comparison_operator> <value>]`**"
   ]
  },
  {
   "cell_type": "markdown",
   "metadata": {},
   "source": [
    "Comparison operator:\n",
    "- `<` : Lebih kecil dari (yaitu : a < b)\n",
    "- `<=` : Lebih kecil atau sama dengan (yaitu : a <= b)\n",
    "- `>` : Lebih besar dari (yaitu: a > b)\n",
    "- `>=` : Lebih besar atau sama dengan (yaitu: a >= b)\n",
    "- `==` : Sama dengan (yaitu: a == b)\n",
    "- `!=` : Tidak Sama dengan (yaitu: a != b)"
   ]
  },
  {
   "cell_type": "code",
   "execution_count": null,
   "metadata": {},
   "outputs": [],
   "source": [
    "# cek head\n",
    "employ_merge.head()"
   ]
  },
  {
   "cell_type": "markdown",
   "metadata": {},
   "source": [
    "**Task 1:** Tampilkan data pegawai yang berasal dari DKI JAKARTA!"
   ]
  },
  {
   "cell_type": "markdown",
   "metadata": {},
   "source": [
    "> **Step 1**: Buat kondisi\n",
    "> ```\n",
    "> employ_merge['province'] == 'JAWA BARAT'\n",
    "> ```\n",
    "> **Step 2**: Subset kondisi\n",
    "> ```\n",
    "> employ_merge[employ_merge['province'] == 'JAWA BARAT']\n",
    "> ```"
   ]
  },
  {
   "cell_type": "code",
   "execution_count": null,
   "metadata": {},
   "outputs": [],
   "source": [
    "# code here\n"
   ]
  },
  {
   "cell_type": "markdown",
   "metadata": {},
   "source": [
    "**Business Question**: Bagian HR ingin meninjau pegawai dari departemen 'Customer Service'. Tampilkanlah data yang sesuai! "
   ]
  },
  {
   "cell_type": "code",
   "execution_count": null,
   "metadata": {},
   "outputs": [],
   "source": [
    "# code here\n",
    "employ_cs = ..."
   ]
  },
  {
   "cell_type": "markdown",
   "metadata": {},
   "source": [
    "### Multiple Conditions\n",
    "\n",
    "Kita juga dapat menggunakan operator `&` (AND) dan `|` (OR) untuk melakukan subsetting lebih dari 1 kondisi. Misalnya kita ingin melihat data penjualan dari seorang pegawai bernama Elsa yang jumlahnya lebih dari 5000, maka kita dapat menggunakan syntax:\n",
    "```\n",
    "sales[(sales.salesperson == 'Elsa') & (sales.amount > 5000)]\n",
    "```\n",
    "\n",
    "Untuk subsetting dengan kondisi lebih dari 1, setiap kondisi diletakkan **di dalam tanda kurung `()`** atau bisa ditulis dengan syntax berikut:\n",
    "\n",
    "```\n",
    "df[(kondisi pertama) operator (kondisi kedua) operator (kondisi ketiga) dan seterusnya...]\n",
    "```\n",
    "\n",
    "**Poin:**\n",
    "- Operator AND: harus semua kondisi terpenuhi dalam satu baris agar muncul\n",
    "- Operator OR: salah satu kondisi saja sudah terpenuhi maka baris tsb muncul"
   ]
  },
  {
   "cell_type": "markdown",
   "metadata": {},
   "source": [
    "**Contoh sederhana penggunaan OR dan AND**"
   ]
  },
  {
   "cell_type": "code",
   "execution_count": null,
   "metadata": {},
   "outputs": [],
   "source": [
    "df = pd.DataFrame({\n",
    "    'angka': [1,2,3],\n",
    "    'huruf': ['a','b','c']\n",
    "})\n",
    "df"
   ]
  },
  {
   "cell_type": "markdown",
   "metadata": {},
   "source": [
    "**OPERATOR AND**"
   ]
  },
  {
   "cell_type": "markdown",
   "metadata": {},
   "source": [
    "Menampilkan baris dengan `angka` 1 dan `huruf` a"
   ]
  },
  {
   "cell_type": "code",
   "execution_count": null,
   "metadata": {},
   "outputs": [],
   "source": [
    "#code here\n",
    "df[(df['angka'] == 1) & (df['huruf'] == 'a')]"
   ]
  },
  {
   "cell_type": "markdown",
   "metadata": {},
   "source": [
    "Menampilkan baris dengan `angka` 1 dan `huruf` b"
   ]
  },
  {
   "cell_type": "code",
   "execution_count": null,
   "metadata": {},
   "outputs": [],
   "source": [
    "#code here\n"
   ]
  },
  {
   "cell_type": "markdown",
   "metadata": {},
   "source": [
    "**OPERATOR OR**"
   ]
  },
  {
   "cell_type": "markdown",
   "metadata": {},
   "source": [
    "Menampilkan baris dengan `angka` 1 atau `huruf` b"
   ]
  },
  {
   "cell_type": "code",
   "execution_count": null,
   "metadata": {},
   "outputs": [],
   "source": [
    "#code here\n"
   ]
  },
  {
   "cell_type": "markdown",
   "metadata": {},
   "source": [
    "**Task 1**: Ambil data pegawai yang bekerja pada departemen `Executive` dan `Store Management`"
   ]
  },
  {
   "cell_type": "code",
   "execution_count": null,
   "metadata": {},
   "outputs": [],
   "source": [
    "# code here\n"
   ]
  },
  {
   "cell_type": "markdown",
   "metadata": {},
   "source": [
    "**Task 2**: Ambil data pegawai yang berusia di antara 20 hingga 50 tahun (inclusive, termasuk yang berusia 20 dan 50 tahun)"
   ]
  },
  {
   "cell_type": "code",
   "execution_count": null,
   "metadata": {},
   "outputs": [],
   "source": [
    "# code here\n"
   ]
  },
  {
   "cell_type": "markdown",
   "metadata": {},
   "source": [
    "### [Additional] `.between()`\n",
    "\n",
    "Untuk mengambil data dengan range nilai tertentu, kita dapat menggunakan `.between()`, dengan parameter:\n",
    "- `left`: batas kiri\n",
    "- `right`: batas kanan\n",
    "\n",
    "Secara default, method `.between()` akan mengambil data secara inclusive (left dan right termasuk)"
   ]
  },
  {
   "cell_type": "code",
   "execution_count": null,
   "metadata": {},
   "outputs": [],
   "source": [
    "employ_age = ...\n",
    "employ_age"
   ]
  },
  {
   "cell_type": "markdown",
   "metadata": {},
   "source": [
    "# Data Wrangling\n",
    "\n",
    "Data wrangling adalah proses mengubah bentuk data agar siap untuk proses analisis selanjutnya, dalam kasus kita adalah untuk proses visualisasi. Salah satu proses data wrangling yang paling umum dilakukan adalah membentuk *frequency table*. Frequency table merupakan tabel yang berisi nilai frekuensi/kemunculan suatu kategori."
   ]
  },
  {
   "cell_type": "markdown",
   "metadata": {},
   "source": [
    "### Cross Tabulation\n",
    "\n",
    "Selain menggunakan method `value_counts()`, kita juga dapat menggunakan fungsi `crosstab()` yang telah disediakan oleh `pandas` untuk menghitung frekuensi pada data. Syntax yang digunakan untuk menggunakan fungsi `crosstab()` adalah :\n",
    "\n",
    "```python\n",
    "pd.crosstab(index=x,\n",
    "            columns=y)\n",
    "```\n",
    "\n",
    "Parameter :\n",
    "- `index` : kolom yang akan dijadikan index baris (axis 0)\n",
    "- `columns` : kolom yang akan dijadikan index kolom (axis 1)"
   ]
  },
  {
   "cell_type": "markdown",
   "metadata": {},
   "source": [
    "#### Frequency of 1 Variable\n",
    "\n",
    "🔻 Mari kita lihat jumlah pegawai di tiap departemen menggunakan fungsi **`crosstab()`**"
   ]
  },
  {
   "cell_type": "markdown",
   "metadata": {},
   "source": [
    "💡 Tips: gunakan parameter `colnames=[None]` agar tidak muncul nama kolom di atas index"
   ]
  },
  {
   "cell_type": "code",
   "execution_count": null,
   "metadata": {},
   "outputs": [],
   "source": [
    "# code here\n",
    "dept = ...\n",
    "dept"
   ]
  },
  {
   "cell_type": "markdown",
   "metadata": {},
   "source": [
    "#### Sorting\n",
    "\n",
    "Mengurutkan nilai pada sebuah kolom menggunakan method `.sort_values()`, parameter:\n",
    "- `by`: nama kolom\n",
    "- `ascending=False`: mengurutkan nilai dari terbesar ke terkecil"
   ]
  },
  {
   "cell_type": "markdown",
   "metadata": {},
   "source": [
    "❓ Departemen apa yang memiliki jumlah karyawan paling banyak dan berapa frekuensinya?"
   ]
  },
  {
   "cell_type": "code",
   "execution_count": null,
   "metadata": {},
   "outputs": [],
   "source": [
    "# code here\n"
   ]
  },
  {
   "cell_type": "markdown",
   "metadata": {},
   "source": [
    "❓ Dari data `employ_cs` (pegawai Customer Service), generasi apa dengan jumlah karyawan paling banyak dan berapa frekuensinya?"
   ]
  },
  {
   "cell_type": "code",
   "execution_count": null,
   "metadata": {},
   "outputs": [],
   "source": [
    "employ_cs.head()"
   ]
  },
  {
   "cell_type": "code",
   "execution_count": null,
   "metadata": {},
   "outputs": [],
   "source": [
    "df_gen = ...\n",
    "df_gen"
   ]
  },
  {
   "cell_type": "markdown",
   "metadata": {},
   "source": [
    "❓ Bagaimana jumlah karyawan pada 5 tahun pertama?"
   ]
  },
  {
   "cell_type": "code",
   "execution_count": null,
   "metadata": {},
   "outputs": [],
   "source": [
    "df_join = ...\n",
    "df_join.head()"
   ]
  },
  {
   "cell_type": "markdown",
   "metadata": {},
   "source": [
    "#### Frequency of 2 Variables\n",
    "\n",
    "Sebelumnya kita telah menghitung frekuensi dari satu kolom kategorik. Bagaimana jika kita ingin melihat frekuensi dari dua data kategorik?\n",
    "\n",
    "🔻 Dari tiap BUSINESS UNIT, berapa jumlah pegawai untuk tiap gender?"
   ]
  },
  {
   "cell_type": "code",
   "execution_count": null,
   "metadata": {},
   "outputs": [],
   "source": [
    "# code here\n"
   ]
  },
  {
   "cell_type": "markdown",
   "metadata": {},
   "source": [
    "❓ Pada tiap provinsi, berapa jumlah pegawai untuk tiap gender?"
   ]
  },
  {
   "cell_type": "code",
   "execution_count": null,
   "metadata": {},
   "outputs": [],
   "source": [
    "prov_gender = ...\n",
    "prov_gender"
   ]
  },
  {
   "cell_type": "markdown",
   "metadata": {},
   "source": [
    "❓ Dari pegawai yang berusia 20 - 50 tahun (data `employ_age`), untuk tiap departemen, berapa jumlah pegawai untuk tiap gender?"
   ]
  },
  {
   "cell_type": "code",
   "execution_count": null,
   "metadata": {},
   "outputs": [],
   "source": [
    "dept_gender = ...\n",
    "dept_gender"
   ]
  },
  {
   "cell_type": "markdown",
   "metadata": {},
   "source": [
    "# Visualization"
   ]
  },
  {
   "cell_type": "markdown",
   "metadata": {},
   "source": [
    "## Types of Visualization\n",
    "\n",
    "Ketika kita akan membuat visualisasi, jenis plot yang kita pilih harus sesuai dengan tujuan komunikasi yang ingin kita capai\n",
    "-   **Distribusi**: histogram, boxplot\n",
    "-   **Korelasi**: scatterplot\n",
    "-   **Ranking**: barplot\n",
    "-   **Trend/Evolusi**: line plot\n",
    "-   **Wilayah**: map plot\n",
    "\n",
    "Good Reference: [data-to-viz](https://www.data-to-viz.com/)"
   ]
  },
  {
   "cell_type": "markdown",
   "metadata": {},
   "source": [
    "## Interactive Visualization\n",
    "\n",
    "**Plot interaktif** adalah visualisasi data yang memungkinkan pengguna untuk berinteraksi dengan data yang ditampilkan, seperti *zoom in* dan *out*, *panning* (menggeser plot), dan hovering (mengarahkan kursor ke titik data). \n",
    "\n",
    "**Plotly Express**, sebagai library visualisasi data yang kuat, menyediakan fungsi-fungsi yang sederhana dan intuitif untuk membuat plot interaktif. Dengan sintaks yang sederhana dan fitur yang kaya, Plotly Express memungkinkan pengguna untuk membuat visualisasi yang menarik secara efektif.\n",
    "- [Plotly Express Documentation](https://plotly.com/python-api-reference/plotly.express.html)\n",
    "- [Plotly Express Gallery](https://plotly.com/python/plotly-express/#gallery)"
   ]
  },
  {
   "cell_type": "markdown",
   "metadata": {},
   "source": [
    "### Line Plot: Joining Frequency over Time\n",
    "\n",
    "Kita akan membuat sebuah line plot yang menggambarkan pergerakan jumlah pegawai yang bergabung dengan perusahaan kita per tahunnya, mulai dari awal mula perusahaan ini berdiri hingga saat ini. Untuk itu, mari kita gunakan data `df_join` "
   ]
  },
  {
   "cell_type": "code",
   "execution_count": null,
   "metadata": {},
   "outputs": [],
   "source": [
    "# head\n",
    "df_join.head()"
   ]
  },
  {
   "cell_type": "markdown",
   "metadata": {},
   "source": [
    "Dalam sebuah DataFrame, bagian paling kiri merupakan **index**. Dari data kita, dapat dilihat bahwa `join_year` merupakan index, **bukan sebuah kolom**. Bentuk DataFrame seperti ini tidak dapat digunakan untuk visualisasi, oleh karena itu kita perlu melakukan `.reset_index()`, untuk mengubah index menjadi kolom."
   ]
  },
  {
   "cell_type": "code",
   "execution_count": null,
   "metadata": {},
   "outputs": [],
   "source": [
    "# reset index\n"
   ]
  },
  {
   "cell_type": "markdown",
   "metadata": {},
   "source": [
    "Setelah mempersiapkan data, kita dapat membuat visualisasi interaktif. Untuk membuat line plot, kita dapat menggunakan fungsi `.line()`, dengan parameter:\n",
    "- `data_frame`: dataframe yang digunakan\n",
    "- `x`: kolom untuk sumbu x\n",
    "- `y`: kolom untuk sumbu y\n",
    "- `markers`: (`True`/`False`) memunculkan titik data\n",
    "- `labels`: custom label sesuai nama kolom"
   ]
  },
  {
   "cell_type": "code",
   "execution_count": null,
   "metadata": {},
   "outputs": [],
   "source": [
    "import plotly.express as px\n",
    "\n",
    "# px.line\n",
    "plot_join = ...\n",
    "\n",
    "plot_join"
   ]
  },
  {
   "cell_type": "markdown",
   "metadata": {},
   "source": [
    "### Barplot: Employee Count per Generation in Customer Service Dept.\n",
    "\n",
    "Selanjutnya kita ingin membuat barplot yang menunjukkan jumlah pegawai dari tiap generasi. Oleh karena itu, kita dapat menggunakan data `df_gen`."
   ]
  },
  {
   "cell_type": "code",
   "execution_count": null,
   "metadata": {},
   "outputs": [],
   "source": [
    "# head\n",
    "df_gen.head()"
   ]
  },
  {
   "cell_type": "markdown",
   "metadata": {},
   "source": [
    "Dari data kita, dapat dilihat bahwa `generation` merupakan index, **bukan sebuah kolom**. Bentuk DataFrame seperti ini tidak dapat digunakan untuk visualisasi, oleh karena itu kita perlu melakukan `.reset_index()`, untuk mengubah index menjadi kolom."
   ]
  },
  {
   "cell_type": "code",
   "execution_count": null,
   "metadata": {},
   "outputs": [],
   "source": [
    "# reset index\n"
   ]
  },
  {
   "cell_type": "markdown",
   "metadata": {},
   "source": [
    "Untuk membuat barplot, kita dapat menggunakan fungsi `.bar()`, dengan parameter:\n",
    "- `data_frame`: dataframe yang digunakan\n",
    "- `x`: kolom untuk sumbu x\n",
    "- `y`: kolom untuk sumbu y\n",
    "- `labels`: custom label sesuai nama kolom"
   ]
  },
  {
   "cell_type": "code",
   "execution_count": null,
   "metadata": {},
   "outputs": [],
   "source": [
    "# px.bar\n",
    "plot_gen = ...\n",
    "plot_gen"
   ]
  },
  {
   "cell_type": "markdown",
   "metadata": {},
   "source": [
    "### Multivariate: Gender per Department, Age 20 to 50\n",
    "\n",
    "Selanjutnya kita ingin membuat multivariate barplot yang menunjukkan jumlah pegawai dari tiap departemen untuk tiap gender. Oleh karena itu, kita dapat menggunakan data `dept_gender`."
   ]
  },
  {
   "cell_type": "code",
   "execution_count": null,
   "metadata": {},
   "outputs": [],
   "source": [
    "# head\n",
    "dept_gender.head()"
   ]
  },
  {
   "cell_type": "markdown",
   "metadata": {},
   "source": [
    "#### Data Reshaping: `.melt()`\n",
    "\n",
    "Ketika kita ingin membuat suatu plot multivariate, kita tidak dapat memiliki 2 kolom numerik, oleh karena itu kita perlu meleburnya menjadi 1 kolom kategorik + 1 kolom numerik\n",
    "\n",
    "Syntax: `DataFrame.melt()`\n",
    "> Melebur beberapa kolom menjadi 1 kolom (variable) dan nilai di dalamnya menjadi value.\n",
    "\n",
    "<img src=\"assets/reshaping_melt.png\" width=\"600\"/>"
   ]
  },
  {
   "cell_type": "markdown",
   "metadata": {},
   "source": [
    "Dalam method `melt()`, agar index tidak hilang, kita dapat masukkan parameter `ignore_index = False`\n",
    "\n",
    "Tambahan parameter:\n",
    "\n",
    "- `var_name` untuk memberi nama terhadap kolom `variable`\n",
    "- `value_name` untuk memberi nama terhadap kolom `value`"
   ]
  },
  {
   "cell_type": "code",
   "execution_count": null,
   "metadata": {},
   "outputs": [],
   "source": [
    "# melt\n",
    "dept_gender_melt = ...\n",
    "dept_gender_melt.head()"
   ]
  },
  {
   "cell_type": "markdown",
   "metadata": {},
   "source": [
    "Sama seperti data-data kita sebelumnya, dapat dilihat bahwa `department_name` merupakan index, **bukan sebuah kolom**. Bentuk DataFrame seperti ini tidak dapat digunakan untuk visualisasi, oleh karena itu kita perlu melakukan `.reset_index()`, untuk mengubah index menjadi kolom."
   ]
  },
  {
   "cell_type": "code",
   "execution_count": null,
   "metadata": {},
   "outputs": [],
   "source": [
    "# reset index\n"
   ]
  },
  {
   "cell_type": "markdown",
   "metadata": {},
   "source": [
    "Untuk membuat barplot, kita dapat menggunakan fungsi `.bar()`, dengan parameter:\n",
    "- `data_frame`: dataframe yang digunakan\n",
    "- `x`: kolom untuk sumbu x\n",
    "- `y`: kolom untuk sumbu y\n",
    "- `labels`: custom label sesuai nama kolom\n",
    "\n",
    "Untuk membuatnya menjadi multivariate, kita dapat membedakan antara gender Male dan Female melalui warna. Beberapa parameter yang dapat digunakan:\n",
    "- `color`: kolom yang ingin dibedakan berdasarkan warna\n",
    "- `barmode`:\n",
    "    - `relative` (default): saling menyusun\n",
    "    - `overlay`: saling menimpa\n",
    "    - `group`: saling bersebelahan"
   ]
  },
  {
   "cell_type": "code",
   "execution_count": null,
   "metadata": {},
   "outputs": [],
   "source": [
    "# px.bar\n",
    "plot_dept = ...\n",
    "\n",
    "plot_dept"
   ]
  },
  {
   "cell_type": "markdown",
   "metadata": {},
   "source": [
    "### Map: Employee Count across Indonesia\n",
    "\n",
    "Selanjutnya kita ingin membuat plot peta yang menunjukkan jumlah pegawai dari tiap gender dari seluruh provinsi. Oleh karena itu, kita dapat menggunakan data `prov_gender`."
   ]
  },
  {
   "cell_type": "code",
   "execution_count": null,
   "metadata": {},
   "outputs": [],
   "source": [
    "# head\n",
    "prov_gender.head()"
   ]
  },
  {
   "cell_type": "markdown",
   "metadata": {},
   "source": [
    "Selain jumlah pegawai per gender, kita juga ingin mengetahui jumlah total pegawai per provinsi, oleh karena itu mari kita buat suatu kolom baru bernama `Total` yang berisi jumlah pegawai Female dan Male."
   ]
  },
  {
   "cell_type": "code",
   "execution_count": null,
   "metadata": {},
   "outputs": [],
   "source": [
    "# Total = Female + Male\n"
   ]
  },
  {
   "cell_type": "markdown",
   "metadata": {},
   "source": [
    "Untuk bisa membuat peta, tentunya kita memerlukan informasi koordinat wilayah. Mari kita baca data `coordinate.csv` dan simpan dalam variabel `coord`."
   ]
  },
  {
   "cell_type": "code",
   "execution_count": null,
   "metadata": {},
   "outputs": [],
   "source": [
    "# read data coordinate\n",
    "coord = pd.read_csv(\"data/coordinate.csv\")\n",
    "coord.head()"
   ]
  },
  {
   "cell_type": "markdown",
   "metadata": {},
   "source": [
    "❓ Mari kita gabungkan data `prov_gender` dengan data `coord` menggunakan method `.merge()`!"
   ]
  },
  {
   "cell_type": "code",
   "execution_count": null,
   "metadata": {},
   "outputs": [],
   "source": [
    "df_map = ...\n",
    "\n",
    "df_map.head()"
   ]
  },
  {
   "cell_type": "markdown",
   "metadata": {},
   "source": [
    "Untuk membuat peta, kita dapat menggunakan fungsi `.scatter_mapbox()`, dengan parameter:\n",
    "- `data_frame`: dataframe yang digunakan\n",
    "- `lat`: kolom untuk latitude (lintang)\n",
    "- `lon`: kolom untuk longitude (bujur)\n",
    "- `zoom`: zoom peta (0 - 20, default 8)\n",
    "- `mapbox_style`: salah satu di antara\n",
    "    - `'open-street-map'`\n",
    "    - `'carto-positron'`\n",
    "    - `'carto-darkmatter'`\n",
    "\n",
    "Beberapa parameter tambahan yang dapat kita gunakan untuk menambahkan informasi dalam plot peta kita:\n",
    "- `size`: kolom untuk mengatur ukuran titik\n",
    "- `hover_name`: kolom yang ditampilkan sebagai judul tooltip\n",
    "- `hover_data`: kolom yang ditampilkan sebagai informasi pada tooltip"
   ]
  },
  {
   "cell_type": "code",
   "execution_count": null,
   "metadata": {},
   "outputs": [],
   "source": [
    "# scatter_mapbox\n",
    "plot_map = ...\n",
    "\n",
    "plot_map"
   ]
  },
  {
   "cell_type": "markdown",
   "metadata": {},
   "source": [
    "# References\n",
    "\n",
    "- [Wikipedia: Generations](https://en.wikipedia.org/wiki/Generation#List_of_social_generations)\n",
    "- [Pandas Documentation](https://pandas.pydata.org/docs/user_guide/index.html#user-guide)\n",
    "- [Nomiden Documentation](https://nomiden.readthedocs.io/en/latest/)\n",
    "- [Plotly Express Documentation](https://plotly.com/python-api-reference/plotly.express.html)\n",
    "- [Plotly Express Gallery](https://plotly.com/python/plotly-express/#gallery)\n",
    "- [Streamlit Documentation](https://docs.streamlit.io/)"
   ]
  }
 ],
 "metadata": {
  "kernelspec": {
   "display_name": "algoritma",
   "language": "python",
   "name": "python3"
  },
  "language_info": {
   "codemirror_mode": {
    "name": "ipython",
    "version": 3
   },
   "file_extension": ".py",
   "mimetype": "text/x-python",
   "name": "python",
   "nbconvert_exporter": "python",
   "pygments_lexer": "ipython3",
   "version": "3.10.13"
  },
  "toc": {
   "base_numbering": 1,
   "nav_menu": {},
   "number_sections": true,
   "sideBar": true,
   "skip_h1_title": false,
   "title_cell": "Table of Contents",
   "title_sidebar": "Contents",
   "toc_cell": false,
   "toc_position": {},
   "toc_section_display": true,
   "toc_window_display": true
  },
  "varInspector": {
   "cols": {
    "lenName": 16,
    "lenType": 16,
    "lenVar": 40
   },
   "kernels_config": {
    "python": {
     "delete_cmd_postfix": "",
     "delete_cmd_prefix": "del ",
     "library": "var_list.py",
     "varRefreshCmd": "print(var_dic_list())"
    },
    "r": {
     "delete_cmd_postfix": ") ",
     "delete_cmd_prefix": "rm(",
     "library": "var_list.r",
     "varRefreshCmd": "cat(var_dic_list()) "
    }
   },
   "types_to_exclude": [
    "module",
    "function",
    "builtin_function_or_method",
    "instance",
    "_Feature"
   ],
   "window_display": false
  }
 },
 "nbformat": 4,
 "nbformat_minor": 4
}
